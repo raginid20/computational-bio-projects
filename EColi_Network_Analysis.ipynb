{
  "nbformat": 4,
  "nbformat_minor": 0,
  "metadata": {
    "kernelspec": {
      "display_name": "Python 3",
      "language": "python",
      "name": "python3"
    },
    "language_info": {
      "codemirror_mode": {
        "name": "ipython",
        "version": 3
      },
      "file_extension": ".py",
      "mimetype": "text/x-python",
      "name": "python",
      "nbconvert_exporter": "python",
      "pygments_lexer": "ipython3",
      "version": "3.7.3"
    },
    "colab": {
      "provenance": [],
      "include_colab_link": true
    }
  },
  "cells": [
    {
      "cell_type": "markdown",
      "metadata": {
        "id": "view-in-github",
        "colab_type": "text"
      },
      "source": [
        "<a href=\"https://colab.research.google.com/github/raginid20/computational-bio-projects/blob/main/EColi_Network_Analysis.ipynb\" target=\"_parent\"><img src=\"https://colab.research.google.com/assets/colab-badge.svg\" alt=\"Open In Colab\"/></a>"
      ]
    },
    {
      "cell_type": "markdown",
      "metadata": {
        "id": "_3PRcNfDrKpX"
      },
      "source": [
        "## E.Coli Network Analysis\n",
        "\n",
        "## Updated Feb. 2, 2023"
      ]
    },
    {
      "cell_type": "markdown",
      "metadata": {
        "id": "hMTf9-GAsrze"
      },
      "source": [
        " Analyzing a gene regulatory network for the bacterial model species *E.&nbsp;coli*."
      ]
    },
    {
      "cell_type": "markdown",
      "metadata": {
        "id": "Q6JYL1qvrcNg"
      },
      "source": [
        "Installing cairo and igraph; import cairo, igraph, pandas, matplotlib, numpy, random, and itertools"
      ]
    },
    {
      "cell_type": "code",
      "metadata": {
        "id": "kTyvAckkra3C",
        "outputId": "65c3303b-f3c9-48ca-f804-2729b653c498",
        "colab": {
          "base_uri": "https://localhost:8080/"
        }
      },
      "source": [
        "!apt-get install libcairo2-dev libjpeg-dev libgif-dev\n",
        "!pip install pycairo\n",
        "import cairo\n",
        "!pip install python-igraph\n",
        "import igraph\n",
        "import numpy as np\n",
        "import matplotlib.pyplot as plt\n",
        "import pandas as pd\n",
        "import random, itertools"
      ],
      "execution_count": null,
      "outputs": [
        {
          "output_type": "stream",
          "name": "stdout",
          "text": [
            "Reading package lists... Done\n",
            "Building dependency tree       \n",
            "Reading state information... Done\n",
            "libgif-dev is already the newest version (5.1.9-1).\n",
            "libgif-dev set to manually installed.\n",
            "libjpeg-dev is already the newest version (8c-2ubuntu8).\n",
            "libjpeg-dev set to manually installed.\n",
            "The following package was automatically installed and is no longer required:\n",
            "  libnvidia-common-510\n",
            "Use 'apt autoremove' to remove it.\n",
            "The following additional packages will be installed:\n",
            "  libblkid-dev libcairo-script-interpreter2 libffi-dev libglib2.0-dev\n",
            "  libglib2.0-dev-bin liblzo2-2 libmount-dev libpixman-1-dev libselinux1-dev\n",
            "  libsepol1-dev libxcb-render0-dev libxcb-shm0-dev\n",
            "Suggested packages:\n",
            "  libcairo2-doc libgirepository1.0-dev libglib2.0-doc libgdk-pixbuf2.0-bin\n",
            "  | libgdk-pixbuf2.0-dev libxml2-utils\n",
            "The following NEW packages will be installed:\n",
            "  libblkid-dev libcairo-script-interpreter2 libcairo2-dev libffi-dev\n",
            "  libglib2.0-dev libglib2.0-dev-bin liblzo2-2 libmount-dev libpixman-1-dev\n",
            "  libselinux1-dev libsepol1-dev libxcb-render0-dev libxcb-shm0-dev\n",
            "0 upgraded, 13 newly installed, 0 to remove and 21 not upgraded.\n",
            "Need to get 3,492 kB of archives.\n",
            "After this operation, 20.0 MB of additional disk space will be used.\n",
            "Get:1 http://archive.ubuntu.com/ubuntu focal/main amd64 liblzo2-2 amd64 2.10-2 [50.8 kB]\n",
            "Get:2 http://archive.ubuntu.com/ubuntu focal/main amd64 libcairo-script-interpreter2 amd64 1.16.0-4ubuntu1 [54.2 kB]\n",
            "Get:3 http://archive.ubuntu.com/ubuntu focal-updates/main amd64 libpixman-1-dev amd64 0.38.4-0ubuntu2.1 [243 kB]\n",
            "Get:4 http://archive.ubuntu.com/ubuntu focal/main amd64 libxcb-render0-dev amd64 1.14-2 [18.4 kB]\n",
            "Get:5 http://archive.ubuntu.com/ubuntu focal/main amd64 libxcb-shm0-dev amd64 1.14-2 [6,716 B]\n",
            "Get:6 http://archive.ubuntu.com/ubuntu focal/main amd64 libffi-dev amd64 3.3-4 [57.0 kB]\n",
            "Get:7 http://archive.ubuntu.com/ubuntu focal-updates/main amd64 libglib2.0-dev-bin amd64 2.64.6-1~ubuntu20.04.4 [109 kB]\n",
            "Get:8 http://archive.ubuntu.com/ubuntu focal-updates/main amd64 libblkid-dev amd64 2.34-0.1ubuntu9.3 [167 kB]\n",
            "Get:9 http://archive.ubuntu.com/ubuntu focal-updates/main amd64 libmount-dev amd64 2.34-0.1ubuntu9.3 [176 kB]\n",
            "Get:10 http://archive.ubuntu.com/ubuntu focal-updates/main amd64 libsepol1-dev amd64 3.0-1ubuntu0.1 [325 kB]\n",
            "Get:11 http://archive.ubuntu.com/ubuntu focal/main amd64 libselinux1-dev amd64 3.0-1build2 [151 kB]\n",
            "Get:12 http://archive.ubuntu.com/ubuntu focal-updates/main amd64 libglib2.0-dev amd64 2.64.6-1~ubuntu20.04.4 [1,506 kB]\n",
            "Get:13 http://archive.ubuntu.com/ubuntu focal/main amd64 libcairo2-dev amd64 1.16.0-4ubuntu1 [627 kB]\n",
            "Fetched 3,492 kB in 0s (12.7 MB/s)\n",
            "Selecting previously unselected package liblzo2-2:amd64.\n",
            "(Reading database ... 128126 files and directories currently installed.)\n",
            "Preparing to unpack .../00-liblzo2-2_2.10-2_amd64.deb ...\n",
            "Unpacking liblzo2-2:amd64 (2.10-2) ...\n",
            "Selecting previously unselected package libcairo-script-interpreter2:amd64.\n",
            "Preparing to unpack .../01-libcairo-script-interpreter2_1.16.0-4ubuntu1_amd64.deb ...\n",
            "Unpacking libcairo-script-interpreter2:amd64 (1.16.0-4ubuntu1) ...\n",
            "Selecting previously unselected package libpixman-1-dev:amd64.\n",
            "Preparing to unpack .../02-libpixman-1-dev_0.38.4-0ubuntu2.1_amd64.deb ...\n",
            "Unpacking libpixman-1-dev:amd64 (0.38.4-0ubuntu2.1) ...\n",
            "Selecting previously unselected package libxcb-render0-dev:amd64.\n",
            "Preparing to unpack .../03-libxcb-render0-dev_1.14-2_amd64.deb ...\n",
            "Unpacking libxcb-render0-dev:amd64 (1.14-2) ...\n",
            "Selecting previously unselected package libxcb-shm0-dev:amd64.\n",
            "Preparing to unpack .../04-libxcb-shm0-dev_1.14-2_amd64.deb ...\n",
            "Unpacking libxcb-shm0-dev:amd64 (1.14-2) ...\n",
            "Selecting previously unselected package libffi-dev:amd64.\n",
            "Preparing to unpack .../05-libffi-dev_3.3-4_amd64.deb ...\n",
            "Unpacking libffi-dev:amd64 (3.3-4) ...\n",
            "Selecting previously unselected package libglib2.0-dev-bin.\n",
            "Preparing to unpack .../06-libglib2.0-dev-bin_2.64.6-1~ubuntu20.04.4_amd64.deb ...\n",
            "Unpacking libglib2.0-dev-bin (2.64.6-1~ubuntu20.04.4) ...\n",
            "Selecting previously unselected package libblkid-dev:amd64.\n",
            "Preparing to unpack .../07-libblkid-dev_2.34-0.1ubuntu9.3_amd64.deb ...\n",
            "Unpacking libblkid-dev:amd64 (2.34-0.1ubuntu9.3) ...\n",
            "Selecting previously unselected package libmount-dev:amd64.\n",
            "Preparing to unpack .../08-libmount-dev_2.34-0.1ubuntu9.3_amd64.deb ...\n",
            "Unpacking libmount-dev:amd64 (2.34-0.1ubuntu9.3) ...\n",
            "Selecting previously unselected package libsepol1-dev:amd64.\n",
            "Preparing to unpack .../09-libsepol1-dev_3.0-1ubuntu0.1_amd64.deb ...\n",
            "Unpacking libsepol1-dev:amd64 (3.0-1ubuntu0.1) ...\n",
            "Selecting previously unselected package libselinux1-dev:amd64.\n",
            "Preparing to unpack .../10-libselinux1-dev_3.0-1build2_amd64.deb ...\n",
            "Unpacking libselinux1-dev:amd64 (3.0-1build2) ...\n",
            "Selecting previously unselected package libglib2.0-dev:amd64.\n",
            "Preparing to unpack .../11-libglib2.0-dev_2.64.6-1~ubuntu20.04.4_amd64.deb ...\n",
            "Unpacking libglib2.0-dev:amd64 (2.64.6-1~ubuntu20.04.4) ...\n",
            "Selecting previously unselected package libcairo2-dev:amd64.\n",
            "Preparing to unpack .../12-libcairo2-dev_1.16.0-4ubuntu1_amd64.deb ...\n",
            "Unpacking libcairo2-dev:amd64 (1.16.0-4ubuntu1) ...\n",
            "Setting up libglib2.0-dev-bin (2.64.6-1~ubuntu20.04.4) ...\n",
            "Setting up libblkid-dev:amd64 (2.34-0.1ubuntu9.3) ...\n",
            "Setting up libpixman-1-dev:amd64 (0.38.4-0ubuntu2.1) ...\n",
            "Setting up libsepol1-dev:amd64 (3.0-1ubuntu0.1) ...\n",
            "Setting up liblzo2-2:amd64 (2.10-2) ...\n",
            "Setting up libffi-dev:amd64 (3.3-4) ...\n",
            "Setting up libxcb-shm0-dev:amd64 (1.14-2) ...\n",
            "Setting up libxcb-render0-dev:amd64 (1.14-2) ...\n",
            "Setting up libmount-dev:amd64 (2.34-0.1ubuntu9.3) ...\n",
            "Setting up libcairo-script-interpreter2:amd64 (1.16.0-4ubuntu1) ...\n",
            "Setting up libselinux1-dev:amd64 (3.0-1build2) ...\n",
            "Setting up libglib2.0-dev:amd64 (2.64.6-1~ubuntu20.04.4) ...\n",
            "Processing triggers for libglib2.0-0:amd64 (2.64.6-1~ubuntu20.04.4) ...\n",
            "Processing triggers for libc-bin (2.31-0ubuntu9.9) ...\n",
            "Processing triggers for man-db (2.9.1-1) ...\n",
            "Setting up libcairo2-dev:amd64 (1.16.0-4ubuntu1) ...\n",
            "Looking in indexes: https://pypi.org/simple, https://us-python.pkg.dev/colab-wheels/public/simple/\n",
            "Collecting pycairo\n",
            "  Downloading pycairo-1.23.0.tar.gz (344 kB)\n",
            "\u001b[2K     \u001b[90m━━━━━━━━━━━━━━━━━━━━━━━━━━━━━━━━━━━━━━━\u001b[0m \u001b[32m344.6/344.6 KB\u001b[0m \u001b[31m8.5 MB/s\u001b[0m eta \u001b[36m0:00:00\u001b[0m\n",
            "\u001b[?25h  Installing build dependencies ... \u001b[?25l\u001b[?25hdone\n",
            "  Getting requirements to build wheel ... \u001b[?25l\u001b[?25hdone\n",
            "  Installing backend dependencies ... \u001b[?25l\u001b[?25hdone\n",
            "  Preparing metadata (pyproject.toml) ... \u001b[?25l\u001b[?25hdone\n",
            "Building wheels for collected packages: pycairo\n",
            "  Building wheel for pycairo (pyproject.toml) ... \u001b[?25l\u001b[?25hdone\n",
            "  Created wheel for pycairo: filename=pycairo-1.23.0-cp38-cp38-linux_x86_64.whl size=325309 sha256=ba875b3cbf5df285a51769b55d2743d912a2e7919ae78dad301356883693ead0\n",
            "  Stored in directory: /root/.cache/pip/wheels/d9/25/86/ba7950c33840b1fda7ab932c7c7172d77b994807c5fd35c3ea\n",
            "Successfully built pycairo\n",
            "Installing collected packages: pycairo\n",
            "Successfully installed pycairo-1.23.0\n",
            "Looking in indexes: https://pypi.org/simple, https://us-python.pkg.dev/colab-wheels/public/simple/\n",
            "Collecting python-igraph\n",
            "  Downloading python-igraph-0.10.4.tar.gz (9.5 kB)\n",
            "  Preparing metadata (setup.py) ... \u001b[?25l\u001b[?25hdone\n",
            "Collecting igraph==0.10.4\n",
            "  Downloading igraph-0.10.4-cp38-cp38-manylinux_2_17_x86_64.manylinux2014_x86_64.whl (3.3 MB)\n",
            "\u001b[2K     \u001b[90m━━━━━━━━━━━━━━━━━━━━━━━━━━━━━━━━━━━━━━━━\u001b[0m \u001b[32m3.3/3.3 MB\u001b[0m \u001b[31m68.5 MB/s\u001b[0m eta \u001b[36m0:00:00\u001b[0m\n",
            "\u001b[?25hCollecting texttable>=1.6.2\n",
            "  Downloading texttable-1.6.7-py2.py3-none-any.whl (10 kB)\n",
            "Building wheels for collected packages: python-igraph\n",
            "  Building wheel for python-igraph (setup.py) ... \u001b[?25l\u001b[?25hdone\n",
            "  Created wheel for python-igraph: filename=python_igraph-0.10.4-py3-none-any.whl size=9076 sha256=fc1b1a4754f9c168f47941d94e748296f67c36c21bcca24e629d4d63b4d2ade9\n",
            "  Stored in directory: /root/.cache/pip/wheels/04/eb/68/b70fc5f1163b5a3e9e6aaaea5fb57a8ff4c0c4988505a4fe0f\n",
            "Successfully built python-igraph\n",
            "Installing collected packages: texttable, igraph, python-igraph\n",
            "Successfully installed igraph-0.10.4 python-igraph-0.10.4 texttable-1.6.7\n"
          ]
        }
      ]
    },
    {
      "cell_type": "markdown",
      "metadata": {
        "id": "5Jp5cpGZr2qH"
      },
      "source": [
        "You will also need to download the file `ecolitfnet.txt` from the CSX46 S3 bucket, from the URL [https://csx46.s3-us-west-2.amazonaws.com/ecolitfnet.txt](https://csx46.s3-us-west-2.amazonaws.com/ecolitfnet.txt). In case you want to check that you have a complete and uncorrupted version of the file, here is it's MD5 checksum: 89d3688fca40e34cff23f4c2b703e427."
      ]
    },
    {
      "cell_type": "code",
      "metadata": {
        "id": "N9x5kJOOsIXP",
        "outputId": "b9c3be78-341f-412d-9472-6579ca606732",
        "colab": {
          "base_uri": "https://localhost:8080/"
        }
      },
      "source": [
        "!curl https://csx46.s3-us-west-2.amazonaws.com/ecolitfnet.txt > ecolitfnet.txt"
      ],
      "execution_count": null,
      "outputs": [
        {
          "output_type": "stream",
          "name": "stdout",
          "text": [
            "  % Total    % Received % Xferd  Average Speed   Time    Time     Time  Current\n",
            "                                 Dload  Upload   Total   Spent    Left  Speed\n",
            "100  2381  100  2381    0     0   3279      0 --:--:-- --:--:-- --:--:--  3275\n"
          ]
        }
      ]
    },
    {
      "cell_type": "markdown",
      "metadata": {
        "id": "8Q3-SatVHu7C"
      },
      "source": [
        "For consistency of results, go ahead and set the random number seed to 1337"
      ]
    },
    {
      "cell_type": "code",
      "metadata": {
        "id": "8V7vlosCHyBN"
      },
      "source": [
        "random.seed(1337)"
      ],
      "execution_count": null,
      "outputs": []
    },
    {
      "cell_type": "markdown",
      "metadata": {
        "id": "5TLhKv8trKpa"
      },
      "source": [
        "Load in the *E.&nbsp;coli* operon-operon network (gene regulatory network) data in edge-list format; display the first six lines of data as a sanity check. Use `pandas.read_csv` and `pandas.DataFrame.head`."
      ]
    },
    {
      "cell_type": "code",
      "metadata": {
        "id": "noIejf8BrKpb",
        "outputId": "081fd6a3-8ad5-4ea7-cb28-d594ba9cfa9d",
        "colab": {
          "base_uri": "https://localhost:8080/",
          "height": 238
        }
      },
      "source": [
        "edge_list_df = pd.read_csv(\"ecolitfnet.txt\", sep=\"\\t\", names=[\"source\",\"target\"])\n",
        "edge_list_df.shape\n",
        "edge_list_df.head(n=6)"
      ],
      "execution_count": null,
      "outputs": [
        {
          "output_type": "execute_result",
          "data": {
            "text/plain": [
              "  source target\n",
              "0    ADA   AIDB\n",
              "1   ADIY   GADX\n",
              "2   ALLR   ALLS\n",
              "3   ARCA   BETI\n",
              "4   ARCA   DPIA\n",
              "5   ARCA    FNR"
            ],
            "text/html": [
              "\n",
              "  <div id=\"df-3e3dee37-7b7f-40f0-ae7b-0f5449032468\">\n",
              "    <div class=\"colab-df-container\">\n",
              "      <div>\n",
              "<style scoped>\n",
              "    .dataframe tbody tr th:only-of-type {\n",
              "        vertical-align: middle;\n",
              "    }\n",
              "\n",
              "    .dataframe tbody tr th {\n",
              "        vertical-align: top;\n",
              "    }\n",
              "\n",
              "    .dataframe thead th {\n",
              "        text-align: right;\n",
              "    }\n",
              "</style>\n",
              "<table border=\"1\" class=\"dataframe\">\n",
              "  <thead>\n",
              "    <tr style=\"text-align: right;\">\n",
              "      <th></th>\n",
              "      <th>source</th>\n",
              "      <th>target</th>\n",
              "    </tr>\n",
              "  </thead>\n",
              "  <tbody>\n",
              "    <tr>\n",
              "      <th>0</th>\n",
              "      <td>ADA</td>\n",
              "      <td>AIDB</td>\n",
              "    </tr>\n",
              "    <tr>\n",
              "      <th>1</th>\n",
              "      <td>ADIY</td>\n",
              "      <td>GADX</td>\n",
              "    </tr>\n",
              "    <tr>\n",
              "      <th>2</th>\n",
              "      <td>ALLR</td>\n",
              "      <td>ALLS</td>\n",
              "    </tr>\n",
              "    <tr>\n",
              "      <th>3</th>\n",
              "      <td>ARCA</td>\n",
              "      <td>BETI</td>\n",
              "    </tr>\n",
              "    <tr>\n",
              "      <th>4</th>\n",
              "      <td>ARCA</td>\n",
              "      <td>DPIA</td>\n",
              "    </tr>\n",
              "    <tr>\n",
              "      <th>5</th>\n",
              "      <td>ARCA</td>\n",
              "      <td>FNR</td>\n",
              "    </tr>\n",
              "  </tbody>\n",
              "</table>\n",
              "</div>\n",
              "      <button class=\"colab-df-convert\" onclick=\"convertToInteractive('df-3e3dee37-7b7f-40f0-ae7b-0f5449032468')\"\n",
              "              title=\"Convert this dataframe to an interactive table.\"\n",
              "              style=\"display:none;\">\n",
              "        \n",
              "  <svg xmlns=\"http://www.w3.org/2000/svg\" height=\"24px\"viewBox=\"0 0 24 24\"\n",
              "       width=\"24px\">\n",
              "    <path d=\"M0 0h24v24H0V0z\" fill=\"none\"/>\n",
              "    <path d=\"M18.56 5.44l.94 2.06.94-2.06 2.06-.94-2.06-.94-.94-2.06-.94 2.06-2.06.94zm-11 1L8.5 8.5l.94-2.06 2.06-.94-2.06-.94L8.5 2.5l-.94 2.06-2.06.94zm10 10l.94 2.06.94-2.06 2.06-.94-2.06-.94-.94-2.06-.94 2.06-2.06.94z\"/><path d=\"M17.41 7.96l-1.37-1.37c-.4-.4-.92-.59-1.43-.59-.52 0-1.04.2-1.43.59L10.3 9.45l-7.72 7.72c-.78.78-.78 2.05 0 2.83L4 21.41c.39.39.9.59 1.41.59.51 0 1.02-.2 1.41-.59l7.78-7.78 2.81-2.81c.8-.78.8-2.07 0-2.86zM5.41 20L4 18.59l7.72-7.72 1.47 1.35L5.41 20z\"/>\n",
              "  </svg>\n",
              "      </button>\n",
              "      \n",
              "  <style>\n",
              "    .colab-df-container {\n",
              "      display:flex;\n",
              "      flex-wrap:wrap;\n",
              "      gap: 12px;\n",
              "    }\n",
              "\n",
              "    .colab-df-convert {\n",
              "      background-color: #E8F0FE;\n",
              "      border: none;\n",
              "      border-radius: 50%;\n",
              "      cursor: pointer;\n",
              "      display: none;\n",
              "      fill: #1967D2;\n",
              "      height: 32px;\n",
              "      padding: 0 0 0 0;\n",
              "      width: 32px;\n",
              "    }\n",
              "\n",
              "    .colab-df-convert:hover {\n",
              "      background-color: #E2EBFA;\n",
              "      box-shadow: 0px 1px 2px rgba(60, 64, 67, 0.3), 0px 1px 3px 1px rgba(60, 64, 67, 0.15);\n",
              "      fill: #174EA6;\n",
              "    }\n",
              "\n",
              "    [theme=dark] .colab-df-convert {\n",
              "      background-color: #3B4455;\n",
              "      fill: #D2E3FC;\n",
              "    }\n",
              "\n",
              "    [theme=dark] .colab-df-convert:hover {\n",
              "      background-color: #434B5C;\n",
              "      box-shadow: 0px 1px 3px 1px rgba(0, 0, 0, 0.15);\n",
              "      filter: drop-shadow(0px 1px 2px rgba(0, 0, 0, 0.3));\n",
              "      fill: #FFFFFF;\n",
              "    }\n",
              "  </style>\n",
              "\n",
              "      <script>\n",
              "        const buttonEl =\n",
              "          document.querySelector('#df-3e3dee37-7b7f-40f0-ae7b-0f5449032468 button.colab-df-convert');\n",
              "        buttonEl.style.display =\n",
              "          google.colab.kernel.accessAllowed ? 'block' : 'none';\n",
              "\n",
              "        async function convertToInteractive(key) {\n",
              "          const element = document.querySelector('#df-3e3dee37-7b7f-40f0-ae7b-0f5449032468');\n",
              "          const dataTable =\n",
              "            await google.colab.kernel.invokeFunction('convertToInteractive',\n",
              "                                                     [key], {});\n",
              "          if (!dataTable) return;\n",
              "\n",
              "          const docLinkHtml = 'Like what you see? Visit the ' +\n",
              "            '<a target=\"_blank\" href=https://colab.research.google.com/notebooks/data_table.ipynb>data table notebook</a>'\n",
              "            + ' to learn more about interactive tables.';\n",
              "          element.innerHTML = '';\n",
              "          dataTable['output_type'] = 'display_data';\n",
              "          await google.colab.output.renderOutput(dataTable, element);\n",
              "          const docLink = document.createElement('div');\n",
              "          docLink.innerHTML = docLinkHtml;\n",
              "          element.appendChild(docLink);\n",
              "        }\n",
              "      </script>\n",
              "    </div>\n",
              "  </div>\n",
              "  "
            ]
          },
          "metadata": {},
          "execution_count": 4
        }
      ]
    },
    {
      "cell_type": "markdown",
      "source": [
        "Making a graph from the edge list, and then sanity checking the shape to make sure correct data is loaded."
      ],
      "metadata": {
        "id": "NdDzeuvCnA2E"
      }
    },
    {
      "cell_type": "code",
      "metadata": {
        "id": "77jgl9y2rKpq",
        "outputId": "c26bc103-8dd6-4330-9981-856e2f4c0d60",
        "colab": {
          "base_uri": "https://localhost:8080/",
          "height": 35
        }
      },
      "source": [
        "edge_list = edge_list_df[['source', 'target']]\n",
        "ecoli_graph = igraph.Graph.TupleList(edge_list.values.tolist(), directed=True)\n",
        "ecoli_graph.summary()"
      ],
      "execution_count": null,
      "outputs": [
        {
          "output_type": "execute_result",
          "data": {
            "text/plain": [
              "'IGRAPH DN-- 133 261 -- \\n+ attr: name (v)'"
            ],
            "application/vnd.google.colaboratory.intrinsic+json": {
              "type": "string"
            }
          },
          "metadata": {},
          "execution_count": 5
        }
      ]
    },
    {
      "cell_type": "markdown",
      "source": [
        "# Part I: Three-vertex motif analysis"
      ],
      "metadata": {
        "id": "2mZFRf_AI3a7"
      }
    },
    {
      "cell_type": "markdown",
      "source": [
        "## Question 1\n",
        "\n",
        "_There are 13 different types of connected 3-vertex motifs (“isomorphism classes”) for a digraph. Which one of these motifs is most frequent in the E. coli regulatory network?_"
      ],
      "metadata": {
        "id": "am-3SGNNI7oc"
      }
    },
    {
      "cell_type": "markdown",
      "metadata": {
        "id": "8oD1EGNIrKpx"
      },
      "source": [
        "Obtaining the counts of all three-vertex motifs in the graph, Using the `motifs_randesu` method in `igraph.Graph`."
      ]
    },
    {
      "cell_type": "code",
      "metadata": {
        "id": "eqOLauO_rKpy",
        "colab": {
          "base_uri": "https://localhost:8080/"
        },
        "outputId": "32caac5c-aeb2-471e-b9b6-4d6e051616e7"
      },
      "source": [
        "ecoli_motif = ecoli_graph.motifs_randesu()\n",
        "\n",
        "ecoli_motif"
      ],
      "execution_count": null,
      "outputs": [
        {
          "output_type": "execute_result",
          "data": {
            "text/plain": [
              "[nan, nan, 275, nan, 125, 39, 1676, 47, 25, 68, 0, 0, 2, 10, 1, 1]"
            ]
          },
          "metadata": {},
          "execution_count": 6
        }
      ]
    },
    {
      "cell_type": "markdown",
      "source": [
        "## Answer to Question 1:\n",
        "Looking at the results from motifs_randesu(), class 6 has the highest frequency of 1,676."
      ],
      "metadata": {
        "id": "Rnl9Ew6QJaAU"
      }
    },
    {
      "cell_type": "markdown",
      "source": [
        "## Question 2, part A\n",
        "\n",
        "_Which one of these motifs has a count of 47 in the regulatory network?_"
      ],
      "metadata": {
        "id": "LFjTqDYeJtgg"
      }
    },
    {
      "cell_type": "markdown",
      "source": [
        "The motif with the count of 47 is class 7, based on looking at the result from the motifs_randesu() above."
      ],
      "metadata": {
        "id": "jIezDIJi-G2K"
      }
    },
    {
      "cell_type": "markdown",
      "source": [
        "## Answer to Question 2, part A\n",
        "\n",
        "From the results above, the motif with count 47 on the \"real graph\" is Class 7. Manually create an `igraph.Graph` directed graph object with three vertices, and then plot the graph. Make sure that the graph that you created looks like the three-vertex \"Class 7\" motif graph shown in the Canvas assignment for this homework."
      ],
      "metadata": {
        "id": "_zIZmpTAJ5BU"
      }
    },
    {
      "cell_type": "code",
      "metadata": {
        "id": "nWykZshb3zUC",
        "colab": {
          "base_uri": "https://localhost:8080/",
          "height": 155
        },
        "outputId": "59fd2916-fa7e-4e33-ac72-a19a6be83ab5"
      },
      "source": [
        "# Plot a network diagram of the motif\n",
        "graph = igraph.Graph.TupleList([[1, 3], [2, 3], [2, 1]], directed=True)\n",
        "igraph.drawing.plot(graph, bbox=[0, 0, 100, 100])"
      ],
      "execution_count": null,
      "outputs": [
        {
          "output_type": "execute_result",
          "data": {
            "text/plain": [
              "<igraph.drawing.cairo.plot.CairoPlot at 0x7fc40b3025b0>"
            ],
            "image/svg+xml": "<?xml version=\"1.0\" encoding=\"UTF-8\"?>\n<svg xmlns=\"http://www.w3.org/2000/svg\" xmlns:xlink=\"http://www.w3.org/1999/xlink\" width=\"100pt\" height=\"100pt\" viewBox=\"0 0 100 100\" version=\"1.1\">\n<g id=\"surface2\">\n<rect x=\"0\" y=\"0\" width=\"100\" height=\"100\" style=\"fill:rgb(100%,100%,100%);fill-opacity:1;stroke:none;\"/>\n<path style=\"fill:none;stroke-width:1;stroke-linecap:butt;stroke-linejoin:miter;stroke:rgb(26.666667%,26.666667%,26.666667%);stroke-opacity:1;stroke-miterlimit:10;\" d=\"M 80 73.386719 L 58.121094 40.25 \"/>\n<path style=\" stroke:none;fill-rule:nonzero;fill:rgb(26.666667%,26.666667%,26.666667%);fill-opacity:1;\" d=\"M 50.261719 28.34375 L 61.988281 37.695312 L 54.253906 42.804688 L 50.261719 28.34375 \"/>\n<path style=\"fill:none;stroke-width:1;stroke-linecap:butt;stroke-linejoin:miter;stroke:rgb(26.666667%,26.666667%,26.666667%);stroke-opacity:1;stroke-miterlimit:10;\" d=\"M 20 80 L 35.496094 42.433594 \"/>\n<path style=\" stroke:none;fill-rule:nonzero;fill:rgb(26.666667%,26.666667%,26.666667%);fill-opacity:1;\" d=\"M 40.9375 29.246094 L 39.78125 44.199219 L 31.210938 40.664062 L 40.9375 29.246094 \"/>\n<path style=\"fill:none;stroke-width:1;stroke-linecap:butt;stroke-linejoin:miter;stroke:rgb(26.666667%,26.666667%,26.666667%);stroke-opacity:1;stroke-miterlimit:10;\" d=\"M 20 80 L 55.878906 76.046875 \"/>\n<path style=\" stroke:none;fill-rule:nonzero;fill:rgb(26.666667%,26.666667%,26.666667%);fill-opacity:1;\" d=\"M 70.058594 74.484375 L 56.386719 80.652344 L 55.371094 71.4375 L 70.058594 74.484375 \"/>\n<path style=\"fill-rule:nonzero;fill:rgb(100%,0%,0%);fill-opacity:1;stroke-width:1;stroke-linecap:butt;stroke-linejoin:miter;stroke:rgb(0%,0%,0%);stroke-opacity:1;stroke-miterlimit:10;\" d=\"M 90 73.386719 C 90 78.910156 85.523438 83.386719 80 83.386719 C 74.476562 83.386719 70 78.910156 70 73.386719 C 70 67.863281 74.476562 63.386719 80 63.386719 C 85.523438 63.386719 90 67.863281 90 73.386719 \"/>\n<path style=\"fill-rule:nonzero;fill:rgb(100%,0%,0%);fill-opacity:1;stroke-width:1;stroke-linecap:butt;stroke-linejoin:miter;stroke:rgb(0%,0%,0%);stroke-opacity:1;stroke-miterlimit:10;\" d=\"M 54.75 20 C 54.75 25.523438 50.273438 30 44.75 30 C 39.230469 30 34.75 25.523438 34.75 20 C 34.75 14.476562 39.230469 10 44.75 10 C 50.273438 10 54.75 14.476562 54.75 20 \"/>\n<path style=\"fill-rule:nonzero;fill:rgb(100%,0%,0%);fill-opacity:1;stroke-width:1;stroke-linecap:butt;stroke-linejoin:miter;stroke:rgb(0%,0%,0%);stroke-opacity:1;stroke-miterlimit:10;\" d=\"M 30 80 C 30 85.523438 25.523438 90 20 90 C 14.476562 90 10 85.523438 10 80 C 10 74.476562 14.476562 70 20 70 C 25.523438 70 30 74.476562 30 80 \"/>\n</g>\n</svg>\n"
          },
          "metadata": {
            "image/svg+xml": {
              "isolated": true
            }
          },
          "execution_count": 7
        }
      ]
    },
    {
      "cell_type": "markdown",
      "source": [
        "Calling the `igraph.Graph.isoclass` method on the three-vertex igraph graph. It should return 7."
      ],
      "metadata": {
        "id": "RIJamgxB8HWJ"
      }
    },
    {
      "cell_type": "code",
      "metadata": {
        "id": "PhXw63wWwbLp",
        "colab": {
          "base_uri": "https://localhost:8080/"
        },
        "outputId": "4c524137-ec5a-4edd-c67d-391c88692850"
      },
      "source": [
        "# print the isomorphism class\n",
        "igraph.Graph.isoclass(graph)"
      ],
      "execution_count": null,
      "outputs": [
        {
          "output_type": "execute_result",
          "data": {
            "text/plain": [
              "7"
            ]
          },
          "metadata": {},
          "execution_count": 8
        }
      ]
    },
    {
      "cell_type": "markdown",
      "source": [
        "## Question 2, part B\n",
        "\n",
        "_What are the mean and standard deviation of the MM counts for the 1,000 random networks?_"
      ],
      "metadata": {
        "id": "9AjpPVpCKMNO"
      }
    },
    {
      "cell_type": "markdown",
      "metadata": {
        "id": "GPpi5RzIrKp4"
      },
      "source": [
        "Getting the motif counts for 10,000 different randomizations of the network.  "
      ]
    },
    {
      "cell_type": "code",
      "metadata": {
        "id": "jH_C-_garKp5"
      },
      "source": [
        "motif_cts = []\n",
        "\n",
        "for i in range(0, 10000):\n",
        "  # make a copy of the ecoli network\n",
        "  new_graph = igraph.Graph.copy(ecoli_graph)\n",
        "  # rewire the graph\n",
        "  igraph.Graph.rewire(new_graph, n=1000)\n",
        "  # calculate and save the motif counts\n",
        "  motif_cts.append(np.array(new_graph.motifs_randesu()))\n"
      ],
      "execution_count": null,
      "outputs": []
    },
    {
      "cell_type": "markdown",
      "metadata": {
        "id": "-IQXDlahrKp_"
      },
      "source": [
        "For each motif type, computing the mean and standard deviation of the counts of appearances of the motif in each of the 10,000 randomly rewired graphs."
      ]
    },
    {
      "cell_type": "code",
      "metadata": {
        "id": "zWt63O25rKqA"
      },
      "source": [
        "means = np.mean(motif_cts, axis=0)\n",
        "stds = np.std(motif_cts, axis=0)"
      ],
      "execution_count": null,
      "outputs": []
    },
    {
      "cell_type": "markdown",
      "source": [
        "Printing out the mean and the standard deviation of the numbers of feed-forward loops (FFLs) in random networks. Print the number of FFLs on the real network. The FFL should be at index position 7 (starting from zero!) of the vector returned from motifs_randesu."
      ],
      "metadata": {
        "id": "cUoDHA1mVyMQ"
      }
    },
    {
      "cell_type": "code",
      "metadata": {
        "id": "TqtRuYcMrKqL",
        "outputId": "0dc8453f-1071-4fbb-ed40-dc1d115c7483",
        "colab": {
          "base_uri": "https://localhost:8080/"
        }
      },
      "source": [
        "print(f\"Mean FFL in Random Network: {means[7]:0.4f}\")\n",
        "print(f\"Standard Deviation of FFL in Random Network: {stds[7]:0.4f}\")\n",
        "print(f\"Number of FFL in Real Network: {ecoli_motif[7]}\")"
      ],
      "execution_count": null,
      "outputs": [
        {
          "output_type": "stream",
          "name": "stdout",
          "text": [
            "Mean FFL in Random Network: 57.2079\n",
            "Standard Deviation of FFL in Random Network: 9.2978\n",
            "Number of FFL in Real Network: 47\n"
          ]
        }
      ]
    },
    {
      "cell_type": "markdown",
      "source": [
        "## Question 3\n",
        "\n",
        "_What is the Z-score for enrichment of the MM count for the real network vs. the ensemble of random networks?  Does this Z-score correspond to a statistically significant positive enrichment?_"
      ],
      "metadata": {
        "id": "IZ5SvLETKfNs"
      }
    },
    {
      "cell_type": "markdown",
      "metadata": {
        "id": "lURw1g-NrKqG"
      },
      "source": [
        "For each motif type, obtain the *Z* score for the number of appearances of the motif in the real network, vs. in the randomly rewired networks. Note, some of the motif counts are all zero, so we will set NumPy to ignore divide-by-zero errors before we do the vector element-wise division operation."
      ]
    },
    {
      "cell_type": "code",
      "metadata": {
        "id": "lRZp053GrKqG"
      },
      "source": [
        "np.seterr(divide='ignore')\n",
        "\n",
        "# add code to compute the z-score\n",
        "zscr = (ecoli_motif - means)/stds"
      ],
      "execution_count": null,
      "outputs": []
    },
    {
      "cell_type": "markdown",
      "source": [
        "Print the _z_-score for the FFL\n",
        "\n",
        "## Answer to Question 3"
      ],
      "metadata": {
        "id": "8NBhEOUiKksU"
      }
    },
    {
      "cell_type": "code",
      "source": [
        "print(f\"Z-score for the FFL count on the real network vs. the random networks: {zscr[7]}\")"
      ],
      "metadata": {
        "id": "N0hAd_dWKkH0",
        "colab": {
          "base_uri": "https://localhost:8080/"
        },
        "outputId": "8be6da84-cd51-4cb6-ca71-2d9582fe25b9"
      },
      "execution_count": null,
      "outputs": [
        {
          "output_type": "stream",
          "name": "stdout",
          "text": [
            "Z-score for the FFL count on the real network vs. the random networks: -1.0978846862755127\n"
          ]
        }
      ]
    },
    {
      "cell_type": "markdown",
      "source": [
        "## Question 4.\n",
        "\n",
        "_What is the ratio of the MM count for the real network to the average MM count for the random networks?_"
      ],
      "metadata": {
        "id": "8TeCd6RdK4D9"
      }
    },
    {
      "cell_type": "markdown",
      "source": [
        "Printing out the ratio of the FFL count for the real network, to the average FFL count for the random networks\n",
        "\n",
        "## Answer to Question 4"
      ],
      "metadata": {
        "id": "S_rl8yisLF_N"
      }
    },
    {
      "cell_type": "code",
      "source": [
        "ratio = ecoli_motif[7]/means[7]\n",
        "\n",
        "print(f\"Ratio of FFL Count (Real Network/Avg of Random Networks): {ratio: 0.4f}\")"
      ],
      "metadata": {
        "colab": {
          "base_uri": "https://localhost:8080/"
        },
        "id": "FbOb2aT_LKZL",
        "outputId": "df8654fd-c085-4943-b188-53c33b168f1e"
      },
      "execution_count": null,
      "outputs": [
        {
          "output_type": "stream",
          "name": "stdout",
          "text": [
            "Ratio of FFL Count (Real Network/Avg of Random Networks):  0.8216\n"
          ]
        }
      ]
    },
    {
      "cell_type": "markdown",
      "source": [
        "## Question 5.\n",
        "\n",
        "_How does ratio compare to the same ratio for the data in Table 1 in Shen-Orr et al., Nature Genetics, 2002?_"
      ],
      "metadata": {
        "id": "NXwVNY43LYiI"
      }
    },
    {
      "cell_type": "markdown",
      "source": [
        "Adding up the first two rows of Table 1 in Shen-Orr et al., we get a count of 40 FFLs in the real network vs. an average of 6.9 in the randomized networks. Print the ratio:\n",
        "\n",
        "## Answer to Question 5"
      ],
      "metadata": {
        "id": "MVwC68fPLemm"
      }
    },
    {
      "cell_type": "code",
      "source": [
        "so_ratio = 40/6.9\n",
        "print(f\"Shen-Orr Ratio: {so_ratio: 0.3f}\")"
      ],
      "metadata": {
        "colab": {
          "base_uri": "https://localhost:8080/"
        },
        "id": "2RF-tgtXLnYz",
        "outputId": "ea55e994-e8ec-4ca4-a8c3-b8aff961deb8"
      },
      "execution_count": null,
      "outputs": [
        {
          "output_type": "stream",
          "name": "stdout",
          "text": [
            "Shen-Orr Ratio:  5.797\n"
          ]
        }
      ]
    },
    {
      "cell_type": "markdown",
      "source": [
        "## Question 6\n",
        "\n",
        "_Given the modest ratio of the MM frequency in the real network vs. randomly shuffled network, should we entertain the possibility that the high frequency of MMs in the real network could be a consequence of the degree distribution rather than evolution specifically “favoring” FFLs as a building block for gene regulatory networks?_"
      ],
      "metadata": {
        "id": "fxEphJtnL2UN"
      }
    },
    {
      "cell_type": "markdown",
      "source": [
        "Yes, I think this is possible, it could be likely that there was a higher degree distribution in the real network, given that the ratio between the random network and the real network is very small, less than 1."
      ],
      "metadata": {
        "id": "Z1_VpZauL5_k"
      }
    },
    {
      "cell_type": "markdown",
      "source": [
        "# Part II. Four-vertex motif analysis"
      ],
      "metadata": {
        "id": "EenCquASQyWT"
      }
    },
    {
      "cell_type": "markdown",
      "source": [
        "## Question 1\n",
        "\n",
        "_What is the count of this four-vertex motif in the E. coli gene regulatory network?_"
      ],
      "metadata": {
        "id": "WP5VQATJQ2GH"
      }
    },
    {
      "cell_type": "markdown",
      "metadata": {
        "id": "9vCdePy1rKqQ"
      },
      "source": [
        "Figuring out the isomorphism class of the network shown in the assignment."
      ]
    },
    {
      "cell_type": "code",
      "metadata": {
        "id": "NHXVOfbPrKqR",
        "outputId": "bc76f3d6-4488-4176-9db0-8514a7709ef7",
        "colab": {
          "base_uri": "https://localhost:8080/",
          "height": 155
        }
      },
      "source": [
        "# build the graph and print out a summary\n",
        "graph2 = igraph.Graph.TupleList([[1, 3], [1, 4], [2, 3], [2, 4]], directed=True)\n",
        "graph2.summary()\n",
        "igraph.drawing.plot(graph2, bbox=[0, 0, 100, 100])\n"
      ],
      "execution_count": null,
      "outputs": [
        {
          "output_type": "execute_result",
          "data": {
            "text/plain": [
              "<igraph.drawing.cairo.plot.CairoPlot at 0x7fc40b3021f0>"
            ],
            "image/svg+xml": "<?xml version=\"1.0\" encoding=\"UTF-8\"?>\n<svg xmlns=\"http://www.w3.org/2000/svg\" xmlns:xlink=\"http://www.w3.org/1999/xlink\" width=\"100pt\" height=\"100pt\" viewBox=\"0 0 100 100\" version=\"1.1\">\n<g id=\"surface9\">\n<rect x=\"0\" y=\"0\" width=\"100\" height=\"100\" style=\"fill:rgb(100%,100%,100%);fill-opacity:1;stroke:none;\"/>\n<path style=\"fill:none;stroke-width:1;stroke-linecap:butt;stroke-linejoin:miter;stroke:rgb(26.666667%,26.666667%,26.666667%);stroke-opacity:1;stroke-miterlimit:10;\" d=\"M 80 43.492188 L 63.902344 33.132812 \"/>\n<path style=\" stroke:none;fill-rule:nonzero;fill:rgb(26.666667%,26.666667%,26.666667%);fill-opacity:1;\" d=\"M 51.90625 25.410156 L 66.410156 29.234375 L 61.394531 37.03125 L 51.90625 25.410156 \"/>\n<path style=\"fill:none;stroke-width:1;stroke-linecap:butt;stroke-linejoin:miter;stroke:rgb(26.666667%,26.666667%,26.666667%);stroke-opacity:1;stroke-miterlimit:10;\" d=\"M 80 43.492188 L 69.636719 59.59375 \"/>\n<path style=\" stroke:none;fill-rule:nonzero;fill:rgb(26.666667%,26.666667%,26.666667%);fill-opacity:1;\" d=\"M 61.917969 71.589844 L 65.738281 57.085938 L 73.535156 62.101562 L 61.917969 71.589844 \"/>\n<path style=\"fill:none;stroke-width:1;stroke-linecap:butt;stroke-linejoin:miter;stroke:rgb(26.666667%,26.666667%,26.666667%);stroke-opacity:1;stroke-miterlimit:10;\" d=\"M 20 56.507812 L 30.363281 40.40625 \"/>\n<path style=\" stroke:none;fill-rule:nonzero;fill:rgb(26.666667%,26.666667%,26.666667%);fill-opacity:1;\" d=\"M 38.082031 28.410156 L 34.261719 42.914062 L 26.464844 37.898438 L 38.082031 28.410156 \"/>\n<path style=\"fill:none;stroke-width:1;stroke-linecap:butt;stroke-linejoin:miter;stroke:rgb(26.666667%,26.666667%,26.666667%);stroke-opacity:1;stroke-miterlimit:10;\" d=\"M 20 56.507812 L 36.097656 66.867188 \"/>\n<path style=\" stroke:none;fill-rule:nonzero;fill:rgb(26.666667%,26.666667%,26.666667%);fill-opacity:1;\" d=\"M 48.09375 74.589844 L 33.589844 70.765625 L 38.605469 62.96875 L 48.09375 74.589844 \"/>\n<path style=\"fill-rule:nonzero;fill:rgb(100%,0%,0%);fill-opacity:1;stroke-width:1;stroke-linecap:butt;stroke-linejoin:miter;stroke:rgb(0%,0%,0%);stroke-opacity:1;stroke-miterlimit:10;\" d=\"M 90 43.492188 C 90 49.015625 85.523438 53.492188 80 53.492188 C 74.476562 53.492188 70 49.015625 70 43.492188 C 70 37.96875 74.476562 33.492188 80 33.492188 C 85.523438 33.492188 90 37.96875 90 43.492188 \"/>\n<path style=\"fill-rule:nonzero;fill:rgb(100%,0%,0%);fill-opacity:1;stroke-width:1;stroke-linecap:butt;stroke-linejoin:miter;stroke:rgb(0%,0%,0%);stroke-opacity:1;stroke-miterlimit:10;\" d=\"M 53.496094 20 C 53.496094 25.523438 49.019531 30 43.496094 30 C 37.972656 30 33.496094 25.523438 33.496094 20 C 33.496094 14.476562 37.972656 10 43.496094 10 C 49.019531 10 53.496094 14.476562 53.496094 20 \"/>\n<path style=\"fill-rule:nonzero;fill:rgb(100%,0%,0%);fill-opacity:1;stroke-width:1;stroke-linecap:butt;stroke-linejoin:miter;stroke:rgb(0%,0%,0%);stroke-opacity:1;stroke-miterlimit:10;\" d=\"M 66.503906 80 C 66.503906 85.523438 62.027344 90 56.503906 90 C 50.980469 90 46.503906 85.523438 46.503906 80 C 46.503906 74.476562 50.980469 70 56.503906 70 C 62.027344 70 66.503906 74.476562 66.503906 80 \"/>\n<path style=\"fill-rule:nonzero;fill:rgb(100%,0%,0%);fill-opacity:1;stroke-width:1;stroke-linecap:butt;stroke-linejoin:miter;stroke:rgb(0%,0%,0%);stroke-opacity:1;stroke-miterlimit:10;\" d=\"M 30 56.507812 C 30 62.03125 25.523438 66.507812 20 66.507812 C 14.476562 66.507812 10 62.03125 10 56.507812 C 10 50.984375 14.476562 46.507812 20 46.507812 C 25.523438 46.507812 30 50.984375 30 56.507812 \"/>\n</g>\n</svg>\n"
          },
          "metadata": {
            "image/svg+xml": {
              "isolated": true
            }
          },
          "execution_count": 21
        }
      ]
    },
    {
      "cell_type": "code",
      "source": [
        "graph2.isoclass()"
      ],
      "metadata": {
        "colab": {
          "base_uri": "https://localhost:8080/"
        },
        "id": "AeISkvSTFvlf",
        "outputId": "6d02f3d8-8dbf-4904-e194-9de8e777c2ae"
      },
      "execution_count": null,
      "outputs": [
        {
          "output_type": "execute_result",
          "data": {
            "text/plain": [
              "19"
            ]
          },
          "metadata": {},
          "execution_count": 22
        }
      ]
    },
    {
      "cell_type": "markdown",
      "metadata": {
        "collapsed": true,
        "id": "mJ-AogZmrKqU"
      },
      "source": [
        "Compute the number of appearances of this four-vertex motif in the real network, using `motifs` with `size=4`.\n",
        "\n",
        "## Answer to Question 1"
      ]
    },
    {
      "cell_type": "code",
      "metadata": {
        "id": "nRfHAbY5rKqV",
        "colab": {
          "base_uri": "https://localhost:8080/"
        },
        "outputId": "bf3b5b91-01d3-4e21-cf23-e2bbdba69f72"
      },
      "source": [
        "ecoli_motifs2 = ecoli_graph.motifs_randesu(size=4)[19]\n",
        "ecoli_motifs2"
      ],
      "execution_count": null,
      "outputs": [
        {
          "output_type": "execute_result",
          "data": {
            "text/plain": [
              "297"
            ]
          },
          "metadata": {},
          "execution_count": 17
        }
      ]
    },
    {
      "cell_type": "markdown",
      "source": [
        "## Question 2\n",
        "\n",
        "_What are the average (and standard deviation) of the counts of this motif in 10,000 randomly shuffled networks?_\n",
        "\n",
        "(you can compute this similarly to what you did for the three- vertex motifs above)."
      ],
      "metadata": {
        "id": "Xm8i-HoBlOTC"
      }
    },
    {
      "cell_type": "markdown",
      "metadata": {
        "id": "F6qoJLgkrKqY"
      },
      "source": [
        "Get the mean and standard deviation for the count of four-vertex motifs in 10,000 randomly rewired graphs.  You will need to use a `for` loop, `igraph.Graph.copy`, `igraph.Graph.rewire`, and `list.append`.  You can specify *n*=1,000 for the rewiring."
      ]
    },
    {
      "cell_type": "code",
      "metadata": {
        "id": "Du-Qr71LrKqZ"
      },
      "source": [
        "motif_cts2 = []\n",
        "\n",
        "for i in range(0, 10000):\n",
        "  # make a copy of the ecoli network\n",
        "  new_graph = igraph.Graph.copy(ecoli_graph)\n",
        "  # rewire the graph\n",
        "  igraph.Graph.rewire(new_graph, n=1000)\n",
        "  # calculate and save the motif counts\n",
        "  motif_cts2.append(np.array(new_graph.motifs_randesu(size=4)))"
      ],
      "execution_count": null,
      "outputs": []
    },
    {
      "cell_type": "markdown",
      "source": [
        "Using `numpy.mean` and `numpy.stdev` to compute the mean and standard deviation of the counts of this motif on the randomly rewired graphs.\n",
        "\n",
        "## Answer to Question 2"
      ],
      "metadata": {
        "id": "LorM-ypERMPM"
      }
    },
    {
      "cell_type": "code",
      "source": [
        "means2 = np.mean(motif_cts2, axis=0)\n",
        "stds2 = np.std(motif_cts2, axis=0)\n",
        "\n",
        "print(f\"Mean: {means2[19]:0.4f}\")\n",
        "print(f\"Standard Deviation: {stds2[19]:0.4f}\")\n"
      ],
      "metadata": {
        "id": "F8adOb0vRbH2",
        "colab": {
          "base_uri": "https://localhost:8080/"
        },
        "outputId": "82143e2e-71c2-4458-f8a7-531bfa4887c5"
      },
      "execution_count": null,
      "outputs": [
        {
          "output_type": "stream",
          "name": "stdout",
          "text": [
            "Mean: 177.8978\n",
            "Standard Deviation: 38.6215\n"
          ]
        }
      ]
    },
    {
      "cell_type": "markdown",
      "source": [
        "## Question 3\n",
        "\n",
        "_What is the *Z*-score for enrichment of this four-vertex motif?  Is it significant?_"
      ],
      "metadata": {
        "id": "un3jtnGYlRCF"
      }
    },
    {
      "cell_type": "markdown",
      "metadata": {
        "id": "X0GXFzozrKqc"
      },
      "source": [
        "Printing out the mean number of 4-vertex dense overlapping region (DOR) motifs for the random networks, the standard deviation, and the *Z* score for the DOR motif count in the real graph vs. the random graphs.\n",
        "\n",
        "## Answer to Question 3"
      ]
    },
    {
      "cell_type": "code",
      "metadata": {
        "id": "-80c2XQPrKqd",
        "outputId": "8239a5b3-7bb7-4432-bb1c-97e96ada1f92",
        "colab": {
          "base_uri": "https://localhost:8080/"
        }
      },
      "source": [
        "zscr2 = (ecoli_motifs2 - means2)/stds2\n",
        "\n",
        "print(f\"Mean 4-Vertex DOR Motif for Random Networks: {means2[19]}\")\n",
        "print(f\"Standard Deviation of 4-Vertex DOR Motif for Random Networks: {stds2[19]:0.4f}\")\n",
        "print(f\"Z-Score for DOR Motif Count for Real vs. Random Networks: {zscr2[19]:0.4f}\")"
      ],
      "execution_count": null,
      "outputs": [
        {
          "output_type": "stream",
          "name": "stdout",
          "text": [
            "Mean 4-Vertex DOR Motif for Random Networks: 177.8978\n",
            "Standard Deviation of 4-Vertex DOR Motif for Random Networks: 38.6215\n",
            "Z-Score for DOR Motif Count for Real vs. Random Networks: 3.0838\n"
          ]
        }
      ]
    },
    {
      "cell_type": "markdown",
      "source": [
        "As seen above, the z-score tells us that the mean of the random network is very different from the observed data of the real network, which shows that it is significant."
      ],
      "metadata": {
        "id": "F6ZsHITrGeuL"
      }
    },
    {
      "cell_type": "markdown",
      "source": [
        "## Question 4\n",
        "\n",
        "_What is the ratio of the count in the real network to the average count for the random networks?  How does this ratio compare to the ratio that you obtain from Table 1 from Shen-Orr et al.? Are they consistent? Does this suggest that Shen-Orr’s actual network randomization procedure is possibly not consistent with their description in the Methods section of their paper, i.e., that it may have had some kind of error? (if you are interested in this topic, see the paper by Konagurthu and Lesk, BMC Systems Biology, 2008, 2:73 [Konagurthu_BMCSystBiol_2008.pdf](https://drive.google.com/file/d/1yO-ZXc0SZpwsLFyr_14n3AsP1T-PjAYu/view?usp=share_link)_\n",
        "\n",
        "## Answer to Question 4"
      ],
      "metadata": {
        "id": "t8SR9Fx8ld1P"
      }
    },
    {
      "cell_type": "markdown",
      "source": [
        "The ratio for the count in the real network is 1.669, (297/177.8978). The ratio from Shen-Orr et al in Table 1 is 3.561 (203/57). The ratio from Shen Orr et al is much larger and inconsistent with the one found in this analysis, which is likely due to the significant difference in the mean motif counts between the random networks. Shen Orr et al's mean motif count for their random network was 57, while our randomized network's mean motif count was 177.8978. It does suggest that Shen-Orr's network randomization process is different that ours, as they used randomized connectivity matrices which is likely generated differently than our method of using rewire."
      ],
      "metadata": {
        "id": "Q0f2eWUNlrMU"
      }
    }
  ]
}